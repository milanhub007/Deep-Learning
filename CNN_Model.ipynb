{
  "cells": [
    {
      "cell_type": "markdown",
      "source": [
        "Importing Necessary Libraries and Modules"
      ],
      "metadata": {
        "id": "ktCDCYyW8Oqb"
      }
    },
    {
      "cell_type": "code",
      "execution_count": null,
      "metadata": {
        "id": "AIcMs6kXL-y5"
      },
      "outputs": [],
      "source": [
        "import my_utils as mu\n",
        "import random\n",
        "import numpy as np\n",
        "import pandas as pd\n",
        "import torch.nn as nn\n",
        "import matplotlib.pyplot as plt\n",
        "from torchvision.utils import make_grid\n",
        "from sklearn.metrics import classification_report"
      ]
    },
    {
      "cell_type": "markdown",
      "source": [
        "#CIFAR-10 Dataset\n",
        "CIFAR-10 is a well-known dataset in the field of computer vision and machine learning. It contains 60,000 colour images in 10 classes, with 6,000 images per class. The images are low-resolution, with each image being 32*32 pixels in size. The dataset is split into two parts: The training set contains 50,000 images, and test set contains 10,000 images of ten different classes. \n",
        "\n",
        "1.   Basic data augmentation is done such as random crop, horizontal flip.\n",
        "2.   Image was transformed into tensor and mormalized.\n",
        "3.   Batch size was set as 128"
      ],
      "metadata": {
        "id": "t8tVs-6N8Jd9"
      }
    },
    {
      "cell_type": "code",
      "source": [
        "import torch\n",
        "import torchvision\n",
        "import torchvision.datasets as datasets\n",
        "import torchvision.transforms as transforms\n",
        "import torch.utils.data as data\n",
        "\n",
        "data_dir = './data'\n",
        "\n",
        "#Define the data transformations for training and testing\n",
        "transform_train = transforms.Compose([transforms.RandomCrop(32, padding=4), transforms.RandomHorizontalFlip(),  \n",
        "                                transforms.ToTensor(), transforms.Normalize(mean=[0.5, 0.5, 0.5], std=[0.5, 0.5, 0.5])]) \n",
        "#transforms.RandomRotation(15)\n",
        "transform_test = transforms.Compose([\n",
        "    transforms.ToTensor(),\n",
        "    transforms.Normalize(mean=[0.5, 0.5, 0.5], std=[0.5, 0.5, 0.5])])\n",
        "\n",
        "#Loading the training and testing datasets\n",
        "train_dataset = torchvision.datasets.CIFAR10(root=data_dir, train=True, download=True, transform=transform_train)\n",
        "test_dataset = torchvision.datasets.CIFAR10(root=data_dir, train=False, download=True, transform=transform_test)\n",
        "\n",
        "batch_size = 128\n",
        "\n",
        "#Create data loaders for training and testing datasets\n",
        "train_loader = data.DataLoader (train_dataset, batch_size=batch_size, shuffle=True, num_workers=2)\n",
        "test_loader = data.DataLoader (test_dataset, batch_size=batch_size, shuffle=False, num_workers=2)\n",
        "\n",
        "#Define the classes for CIFAR-10 dataset\n",
        "classes = ('plane', 'car', 'bird', 'cat', 'deer', 'dog', 'frog', 'horse', 'ship', 'truck')\n"
      ],
      "metadata": {
        "colab": {
          "base_uri": "https://localhost:8080/"
        },
        "id": "R9Qej5w3OqtA",
        "outputId": "f08c9eef-f2de-427f-87c1-6ae5622dd6ee"
      },
      "execution_count": null,
      "outputs": [
        {
          "output_type": "stream",
          "name": "stdout",
          "text": [
            "Downloading https://www.cs.toronto.edu/~kriz/cifar-10-python.tar.gz to ./data/cifar-10-python.tar.gz\n"
          ]
        },
        {
          "output_type": "stream",
          "name": "stderr",
          "text": [
            "100%|██████████| 170498071/170498071 [00:13<00:00, 12364803.82it/s]\n"
          ]
        },
        {
          "output_type": "stream",
          "name": "stdout",
          "text": [
            "Extracting ./data/cifar-10-python.tar.gz to ./data\n",
            "Files already downloaded and verified\n"
          ]
        }
      ]
    },
    {
      "cell_type": "markdown",
      "source": [
        "Sample Image and Label"
      ],
      "metadata": {
        "id": "VvT-7L7h8FEG"
      }
    },
    {
      "cell_type": "code",
      "source": [
        "#Define a function to display an image\n",
        "def imshow(img):\n",
        "    npimg = make_grid(img, normalize=True).numpy()\n",
        "    plt.figure(figsize=(3,3))\n",
        "    plt.imshow(np.transpose(npimg, (1,2,0)))\n",
        "    plt.show()\n",
        "    \n",
        "# Get a batch of training images and display a random image from the batch\n",
        "dataiter = iter(train_loader)\n",
        "images, labels = next(dataiter)\n",
        "\n",
        "sampleImage = random.randint(0, len(images))\n",
        "print(\"Label: \",classes[labels[sampleImage]])\n",
        "imshow(images[sampleImage,:])\n"
      ],
      "metadata": {
        "id": "Tg5FacKYV54b",
        "colab": {
          "base_uri": "https://localhost:8080/",
          "height": 310
        },
        "outputId": "630cc6f0-caa4-46cc-e49d-b73768102750"
      },
      "execution_count": null,
      "outputs": [
        {
          "output_type": "stream",
          "name": "stdout",
          "text": [
            "Label:  truck\n"
          ]
        },
        {
          "output_type": "display_data",
          "data": {
            "text/plain": [
              "<Figure size 300x300 with 1 Axes>"
            ],
            "image/png": "[encoded data removed]"
          },
          "metadata": {}
        }
      ]
    },
    {
      "cell_type": "markdown",
      "source": [
        "#Block Architecture\n",
        "\n",
        "1. The block includes an MLP layer at the beginning which input the spatial average funtion.\n",
        "2. MLP layer output channels of MLP is three.\n",
        "3. Three convolutional layers are made and multiplied with each output channels of MLP after flattening.\n",
        "4. Output is returned which is the sum of the convolutional layers."
      ],
      "metadata": {
        "id": "an05esmjJxCu"
      }
    },
    {
      "cell_type": "code",
      "execution_count": null,
      "metadata": {
        "id": "SXTZxHonOYXe"
      },
      "outputs": [],
      "source": [
        "class cnnBlock(nn.Module):\n",
        "  def __init__(self,input_channel,output_channels,ks=1,padding=0, strides=1):\n",
        "     super(cnnBlock,self).__init__()\n",
        "\n",
        "     #MLP layer\n",
        "     self.mlp = nn.Sequential(\n",
        "         nn.Linear(input_channel, 3),\n",
        "         nn.ReLU(),\n",
        "         nn.Linear(3, 3), \n",
        "         nn.ReLU()\n",
        "      )\n",
        "     \n",
        "     #Convolutionl layers\n",
        "     self.conv1 = nn.Conv2d(input_channel,output_channels,kernel_size=ks, padding = padding, stride=strides)   \n",
        "     self.conv2 = nn.Conv2d(input_channel,output_channels,kernel_size=ks, padding = padding, stride=strides)\n",
        "     self.conv3 = nn.Conv2d(input_channel,output_channels,kernel_size=ks, padding = padding, stride=strides)\n",
        "     self.relu = nn.ReLU()\n",
        "\n",
        "  #Define a function for spatial average pooling  \n",
        "  def spatialAveragePool(self,X): #X.shape = [128,32,32,3]\n",
        "    X = X.mean(dim=(2,3))\n",
        "    return X #[250,3]\n",
        "\n",
        "  def forward(self, x):\n",
        "    a = self.mlp(self.spatialAveragePool(x))\n",
        "    out = 0\n",
        "    # loop which enumerate through conv layers and multiply with each output of MLP layers \n",
        "    for i, conv in enumerate([self.conv1, self.conv2, self.conv3]):\n",
        "        out += a[:, i].view(-1, 1, 1, 1) * self.relu(conv(x))\n",
        "    return out\n"
      ]
    },
    {
      "cell_type": "markdown",
      "source": [
        "#Model Architecture\n",
        "\n",
        "The CNN model used in this project has the following architecture:\n",
        "\n",
        "1.   5 Blocks with 64, 128, 256, 512 and 1024 filters respectively, each followed by a batch normalization.  \n",
        "2.   Maxpooling is added after second, fourth and fifth blocks.\n",
        "3.   ReLU activation function is used in all layers.\n",
        "4.   Spatial average pooling is used after the final block.\n",
        "5.   MLP classifier is used with a dropout regularization with probability 0.5."
      ],
      "metadata": {
        "id": "QRwCDJ67JvUc"
      }
    },
    {
      "cell_type": "code",
      "execution_count": null,
      "metadata": {
        "id": "2P5FunXHiK88"
      },
      "outputs": [],
      "source": [
        "class cnnNet(nn.Module):\n",
        "  def __init__(self):\n",
        "        super(cnnNet, self).__init__()\n",
        "        self.b1 = cnnBlock(3,64,3,1,1)\n",
        "        self.bn1 = nn.BatchNorm2d(64)\n",
        "        self.rl1 = nn.ReLU()\n",
        "        self.b2 = cnnBlock(64,128,3,1,1)\n",
        "        self.bn2 = nn.BatchNorm2d(128)\n",
        "        self.rl2 = nn.ReLU()\n",
        "        self.maxpool1 = nn.MaxPool2d(kernel_size=2)\n",
        "        self.b3 = cnnBlock(128,256,3,1,1)\n",
        "        self.bn3 = nn.BatchNorm2d(256)\n",
        "        self.rl3 = nn.ReLU()\n",
        "        self.b4 = cnnBlock(256,512,3,1,1)\n",
        "        self.bn4 = nn.BatchNorm2d(512)\n",
        "        self.rl4 = nn.ReLU()\n",
        "        self.maxpool2 = nn.MaxPool2d(kernel_size=2)\n",
        "        self.b5 = cnnBlock(512,1024,3,1,1)\n",
        "        self.bn5 = nn.BatchNorm2d(1024)\n",
        "        self.rl5 = nn.ReLU()\n",
        "        self.maxpool = nn.MaxPool2d(kernel_size=2)\n",
        "        self.spatialAveragePool = nn.AdaptiveAvgPool2d((1,1))\n",
        "        self.classifier = nn.Sequential(nn.Linear(1024, 512), nn.ReLU(), nn.Dropout(p=0.5), nn.Linear(512, 128), nn.ReLU(), nn.Linear(128, 10))\n",
        "\n",
        "  def forward(self,X):\n",
        "    X = self.b1(X)\n",
        "    X = self.bn1(X)\n",
        "    X = self.rl1(X)\n",
        "    X = self.b2(X)\n",
        "    X = self.bn2(X)\n",
        "    X = self.rl2(X)\n",
        "    X = self.maxpool1(X)\n",
        "    X = self.b3(X)\n",
        "    X = self.bn3(X)\n",
        "    X = self.rl3(X)\n",
        "    X = self.b4(X)\n",
        "    X = self.bn4(X)\n",
        "    X = self.rl4(X)\n",
        "    X = self.maxpool2(X)\n",
        "    X = self.b5(X)\n",
        "    X = self.bn5(X)\n",
        "    X = self.rl5(X)\n",
        "    X = self.maxpool(X)\n",
        "    X = self.spatialAveragePool(X)\n",
        "    X = X.view(X.size(0),-1)\n",
        "    out = self.classifier(X)\n",
        "    return out\n",
        "      "
      ]
    },
    {
      "cell_type": "code",
      "source": [
        "#Defining the Training\n",
        "def trainf(net, train_iter, test_iter, loss, num_epochs, optimizer, device):\n",
        "    \"\"\"Train and evaluate a model with CPU or GPU.\"\"\"\n",
        "    net.to(device)\n",
        "    animator = mu.d2l.Animator(xlabel='epoch', xlim=[0, num_epochs], ylim=[0.0, 2.0],\n",
        "                            legend=['train loss', 'train acc', 'test acc'])\n",
        "    timer = mu.d2l.Timer()\n",
        "    for epoch in range(num_epochs):\n",
        "        metric = mu.d2l.Accumulator(3)  # train_loss, train_acc, num_examples\n",
        "        for i, (X, y) in enumerate(train_iter):\n",
        "            timer.start()\n",
        "            net.train()\n",
        "            optimizer.zero_grad()\n",
        "            X, y = X.to(device), y.to(device)\n",
        "            y_hat = net(X)\n",
        "            l = loss(y_hat, y)\n",
        "            l.backward()\n",
        "            optimizer.step()\n",
        "            with torch.no_grad():\n",
        "                metric.add(l*X.shape[0], mu.d2l.accuracy(y_hat, y), X.shape[0])\n",
        "            timer.stop()\n",
        "            train_loss, train_acc = metric[0]/metric[2], metric[1]/metric[2]\n",
        "            if (i+1) % 50 == 0:\n",
        "                animator.add(epoch + i/len(train_iter),\n",
        "                              (train_loss, train_acc, None))\n",
        "        test_acc = mu.evaluate_accuracy_gpu(net, test_iter)\n",
        "        animator.add(epoch+1, (None, None, test_acc))\n",
        "    print(f'loss {train_loss:.3f}, train acc {train_acc:.3f}, '\n",
        "          f'test acc {test_acc:.3f}')\n",
        "    print(f'{metric[2] * num_epochs / timer.sum():.1f} examples/sec '\n",
        "          f'on {str(device)}')"
      ],
      "metadata": {
        "id": "PxVqudrJcd-i"
      },
      "execution_count": null,
      "outputs": []
    },
    {
      "cell_type": "markdown",
      "source": [
        "#Loss and Optimizer\n",
        "   \n",
        "1.   The loss function used is Cross entropy loss.\n",
        "2.   The hyper parameters used where learning rate = 0.001 and weight decay = 0.0001.\n",
        "3.   Optimizer used is Adam that will be used to update the weights of the neural network during training, which is a popular optimizer for deep learning that combines the benefits of both the RMSProp and AdaGrad optimizers. model.parameters() specifies the learnable parameters of the model that the optimizer should update during training, and lr specifies the learning rate for the optimizer."
      ],
      "metadata": {
        "id": "b50s4OPzJYVK"
      }
    },
    {
      "cell_type": "code",
      "execution_count": null,
      "metadata": {
        "id": "Rz-lXDLK8Zs8"
      },
      "outputs": [],
      "source": [
        "model = cnnNet()\n",
        "loss = nn.CrossEntropyLoss() #Loss function\n",
        "lr = 0.001 #Learning Rate\n",
        "#wd = 0.0001 #Weight Decay\n",
        "optimizer = torch.optim.Adam(model.parameters(), lr=lr) #Adam Optimizer"
      ]
    },
    {
      "cell_type": "markdown",
      "source": [
        "#Training the Model\n",
        "\n",
        "1.   The best available gpu is used using a device method.\n",
        "2.   The model is trained using Adam  with a learning rate and weight decay. The training is performed for 30 epochs with a batch size of 128. \n",
        "3.   Training and testing accuracy is plotted in a graph.\n",
        "4.   Training function is made using the my_utils file which was provided where the animator function is defined which is creating the graph."
      ],
      "metadata": {
        "id": "nJaY-FrsJVPK"
      }
    },
    {
      "cell_type": "code",
      "source": [
        "#Training the model using the best available processor \n",
        "device = torch.device('cuda' if torch.cuda.is_available() else 'cpu') #choose device: cpu or gpu\n",
        "print('Using device:', device)\n",
        "if torch.cuda.is_available(): print(torch.cuda.get_device_name(0)) # print the type of the chosen gpu\n",
        "\n",
        "#Training\n",
        "num_epochs = 30\n",
        "trainf(model, train_loader, test_loader, loss, num_epochs, optimizer, device)"
      ],
      "metadata": {
        "id": "4xX5qB22rT-A",
        "colab": {
          "base_uri": "https://localhost:8080/",
          "height": 306
        },
        "outputId": "20e574be-6260-42a7-da79-825e58d753a0"
      },
      "execution_count": null,
      "outputs": [
        {
          "output_type": "stream",
          "name": "stdout",
          "text": [
            "loss 0.127, train acc 0.958, test acc 0.889\n",
            "550.6 examples/sec on cuda\n"
          ]
        },
        {
          "output_type": "display_data",
          "data": {
            "text/plain": [
              "<Figure size 350x250 with 1 Axes>"
            ],
            "image/svg+xml": "<?xml version=\"1.0\" encoding=\"utf-8\" standalone=\"no\"?>\n<!DOCTYPE svg PUBLIC \"-//W3C//DTD SVG 1.1//EN\"\n  \"http://www.w3.org/Graphics/SVG/1.1/DTD/svg11.dtd\">\n<svg xmlns:xlink=\"http://www.w3.org/1999/xlink\" width=\"238.965625pt\" height=\"187.155469pt\" viewBox=\"0 0 238.965625 187.155469\" xmlns=\"http://www.w3.org/2000/svg\" version=\"1.1\">\n <metadata>\n  <rdf:RDF xmlns:dc=\"http://purl.org/dc/elements/1.1/\" xmlns:cc=\"http://creativecommons.org/ns#\" xmlns:rdf=\"http://www.w3.org/1999/02/22-rdf-syntax-ns#\">\n   <cc:Work>\n    <dc:type rdf:resource=\"http://purl.org/dc/dcmitype/StillImage\"/>\n    <dc:date>2023-04-12T19:00:54.132669</dc:date>\n    <dc:format>image/svg+xml</dc:format>\n    <dc:creator>\n     <cc:Agent>\n      <dc:title>Matplotlib v3.7.1, https://matplotlib.org/</dc:title>\n     </cc:Agent>\n    </dc:creator>\n   </cc:Work>\n  </rdf:RDF>\n </metadata>\n <defs>\n  <style type=\"text/css\">*{stroke-linejoin: round; stroke-linecap: butt}</style>\n </defs>\n <g id=\"figure_1\">\n  <g id=\"patch_1\">\n   <path d=\"M 0 187.155469 \nL 238.965625 187.155469 \nL 238.965625 0 \nL 0 0 \nz\n\" style=\"fill: #ffffff\"/>\n  </g>\n  <g id=\"axes_1\">\n   <g id=\"patch_2\">\n    <path d=\"M 30.103125 149.599219 \nL 225.403125 149.599219 \nL 225.403125 10.999219 \nL 30.103125 10.999219 \nz\n\" style=\"fill: #ffffff\"/>\n   </g>\n   <g id=\"matplotlib.axis_1\">\n    <g id=\"xtick_1\">\n     <g id=\"line2d_1\">\n      <path d=\"M 30.103125 149.599219 \nL 30.103125 10.999219 \n\" clip-path=\"url(#p5e4fcc5e7d)\" style=\"fill: none; stroke: #b0b0b0; stroke-width: 0.8; stroke-linecap: square\"/>\n     </g>\n     <g id=\"line2d_2\">\n      <defs>\n       <path id=\"mbe35986db6\" d=\"M 0 0 \nL 0 3.5 \n\" style=\"stroke: #000000; stroke-width: 0.8\"/>\n      </defs>\n      <g>\n       <use xlink:href=\"#mbe35986db6\" x=\"30.103125\" y=\"149.599219\" style=\"stroke: #000000; stroke-width: 0.8\"/>\n      </g>\n     </g>\n     <g id=\"text_1\">\n      <!-- 0 -->\n      <g transform=\"translate(26.921875 164.197656) scale(0.1 -0.1)\">\n       <defs>\n        <path id=\"DejaVuSans-30\" d=\"M 2034 4250 \nQ 1547 4250 1301 3770 \nQ 1056 3291 1056 2328 \nQ 1056 1369 1301 889 \nQ 1547 409 2034 409 \nQ 2525 409 2770 889 \nQ 3016 1369 3016 2328 \nQ 3016 3291 2770 3770 \nQ 2525 4250 2034 4250 \nz\nM 2034 4750 \nQ 2819 4750 3233 4129 \nQ 3647 3509 3647 2328 \nQ 3647 1150 3233 529 \nQ 2819 -91 2034 -91 \nQ 1250 -91 836 529 \nQ 422 1150 422 2328 \nQ 422 3509 836 4129 \nQ 1250 4750 2034 4750 \nz\n\" transform=\"scale(0.015625)\"/>\n       </defs>\n       <use xlink:href=\"#DejaVuSans-30\"/>\n      </g>\n     </g>\n    </g>\n    <g id=\"xtick_2\">\n     <g id=\"line2d_3\">\n      <path d=\"M 62.653125 149.599219 \nL 62.653125 10.999219 \n\" clip-path=\"url(#p5e4fcc5e7d)\" style=\"fill: none; stroke: #b0b0b0; stroke-width: 0.8; stroke-linecap: square\"/>\n     </g>\n     <g id=\"line2d_4\">\n      <g>\n       <use xlink:href=\"#mbe35986db6\" x=\"62.653125\" y=\"149.599219\" style=\"stroke: #000000; stroke-width: 0.8\"/>\n      </g>\n     </g>\n     <g id=\"text_2\">\n      <!-- 5 -->\n      <g transform=\"translate(59.471875 164.197656) scale(0.1 -0.1)\">\n       <defs>\n        <path id=\"DejaVuSans-35\" d=\"M 691 4666 \nL 3169 4666 \nL 3169 4134 \nL 1269 4134 \nL 1269 2991 \nQ 1406 3038 1543 3061 \nQ 1681 3084 1819 3084 \nQ 2600 3084 3056 2656 \nQ 3513 2228 3513 1497 \nQ 3513 744 3044 326 \nQ 2575 -91 1722 -91 \nQ 1428 -91 1123 -41 \nQ 819 9 494 109 \nL 494 744 \nQ 775 591 1075 516 \nQ 1375 441 1709 441 \nQ 2250 441 2565 725 \nQ 2881 1009 2881 1497 \nQ 2881 1984 2565 2268 \nQ 2250 2553 1709 2553 \nQ 1456 2553 1204 2497 \nQ 953 2441 691 2322 \nL 691 4666 \nz\n\" transform=\"scale(0.015625)\"/>\n       </defs>\n       <use xlink:href=\"#DejaVuSans-35\"/>\n      </g>\n     </g>\n    </g>\n    <g id=\"xtick_3\">\n     <g id=\"line2d_5\">\n      <path d=\"M 95.203125 149.599219 \nL 95.203125 10.999219 \n\" clip-path=\"url(#p5e4fcc5e7d)\" style=\"fill: none; stroke: #b0b0b0; stroke-width: 0.8; stroke-linecap: square\"/>\n     </g>\n     <g id=\"line2d_6\">\n      <g>\n       <use xlink:href=\"#mbe35986db6\" x=\"95.203125\" y=\"149.599219\" style=\"stroke: #000000; stroke-width: 0.8\"/>\n      </g>\n     </g>\n     <g id=\"text_3\">\n      <!-- 10 -->\n      <g transform=\"translate(88.840625 164.197656) scale(0.1 -0.1)\">\n       <defs>\n        <path id=\"DejaVuSans-31\" d=\"M 794 531 \nL 1825 531 \nL 1825 4091 \nL 703 3866 \nL 703 4441 \nL 1819 4666 \nL 2450 4666 \nL 2450 531 \nL 3481 531 \nL 3481 0 \nL 794 0 \nL 794 531 \nz\n\" transform=\"scale(0.015625)\"/>\n       </defs>\n       <use xlink:href=\"#DejaVuSans-31\"/>\n       <use xlink:href=\"#DejaVuSans-30\" x=\"63.623047\"/>\n      </g>\n     </g>\n    </g>\n    <g id=\"xtick_4\">\n     <g id=\"line2d_7\">\n      <path d=\"M 127.753125 149.599219 \nL 127.753125 10.999219 \n\" clip-path=\"url(#p5e4fcc5e7d)\" style=\"fill: none; stroke: #b0b0b0; stroke-width: 0.8; stroke-linecap: square\"/>\n     </g>\n     <g id=\"line2d_8\">\n      <g>\n       <use xlink:href=\"#mbe35986db6\" x=\"127.753125\" y=\"149.599219\" style=\"stroke: #000000; stroke-width: 0.8\"/>\n      </g>\n     </g>\n     <g id=\"text_4\">\n      <!-- 15 -->\n      <g transform=\"translate(121.390625 164.197656) scale(0.1 -0.1)\">\n       <use xlink:href=\"#DejaVuSans-31\"/>\n       <use xlink:href=\"#DejaVuSans-35\" x=\"63.623047\"/>\n      </g>\n     </g>\n    </g>\n    <g id=\"xtick_5\">\n     <g id=\"line2d_9\">\n      <path d=\"M 160.303125 149.599219 \nL 160.303125 10.999219 \n\" clip-path=\"url(#p5e4fcc5e7d)\" style=\"fill: none; stroke: #b0b0b0; stroke-width: 0.8; stroke-linecap: square\"/>\n     </g>\n     <g id=\"line2d_10\">\n      <g>\n       <use xlink:href=\"#mbe35986db6\" x=\"160.303125\" y=\"149.599219\" style=\"stroke: #000000; stroke-width: 0.8\"/>\n      </g>\n     </g>\n     <g id=\"text_5\">\n      <!-- 20 -->\n      <g transform=\"translate(153.940625 164.197656) scale(0.1 -0.1)\">\n       <defs>\n        <path id=\"DejaVuSans-32\" d=\"M 1228 531 \nL 3431 531 \nL 3431 0 \nL 469 0 \nL 469 531 \nQ 828 903 1448 1529 \nQ 2069 2156 2228 2338 \nQ 2531 2678 2651 2914 \nQ 2772 3150 2772 3378 \nQ 2772 3750 2511 3984 \nQ 2250 4219 1831 4219 \nQ 1534 4219 1204 4116 \nQ 875 4013 500 3803 \nL 500 4441 \nQ 881 4594 1212 4672 \nQ 1544 4750 1819 4750 \nQ 2544 4750 2975 4387 \nQ 3406 4025 3406 3419 \nQ 3406 3131 3298 2873 \nQ 3191 2616 2906 2266 \nQ 2828 2175 2409 1742 \nQ 1991 1309 1228 531 \nz\n\" transform=\"scale(0.015625)\"/>\n       </defs>\n       <use xlink:href=\"#DejaVuSans-32\"/>\n       <use xlink:href=\"#DejaVuSans-30\" x=\"63.623047\"/>\n      </g>\n     </g>\n    </g>\n    <g id=\"xtick_6\">\n     <g id=\"line2d_11\">\n      <path d=\"M 192.853125 149.599219 \nL 192.853125 10.999219 \n\" clip-path=\"url(#p5e4fcc5e7d)\" style=\"fill: none; stroke: #b0b0b0; stroke-width: 0.8; stroke-linecap: square\"/>\n     </g>\n     <g id=\"line2d_12\">\n      <g>\n       <use xlink:href=\"#mbe35986db6\" x=\"192.853125\" y=\"149.599219\" style=\"stroke: #000000; stroke-width: 0.8\"/>\n      </g>\n     </g>\n     <g id=\"text_6\">\n      <!-- 25 -->\n      <g transform=\"translate(186.490625 164.197656) scale(0.1 -0.1)\">\n       <use xlink:href=\"#DejaVuSans-32\"/>\n       <use xlink:href=\"#DejaVuSans-35\" x=\"63.623047\"/>\n      </g>\n     </g>\n    </g>\n    <g id=\"xtick_7\">\n     <g id=\"line2d_13\">\n      <path d=\"M 225.403125 149.599219 \nL 225.403125 10.999219 \n\" clip-path=\"url(#p5e4fcc5e7d)\" style=\"fill: none; stroke: #b0b0b0; stroke-width: 0.8; stroke-linecap: square\"/>\n     </g>\n     <g id=\"line2d_14\">\n      <g>\n       <use xlink:href=\"#mbe35986db6\" x=\"225.403125\" y=\"149.599219\" style=\"stroke: #000000; stroke-width: 0.8\"/>\n      </g>\n     </g>\n     <g id=\"text_7\">\n      <!-- 30 -->\n      <g transform=\"translate(219.040625 164.197656) scale(0.1 -0.1)\">\n       <defs>\n        <path id=\"DejaVuSans-33\" d=\"M 2597 2516 \nQ 3050 2419 3304 2112 \nQ 3559 1806 3559 1356 \nQ 3559 666 3084 287 \nQ 2609 -91 1734 -91 \nQ 1441 -91 1130 -33 \nQ 819 25 488 141 \nL 488 750 \nQ 750 597 1062 519 \nQ 1375 441 1716 441 \nQ 2309 441 2620 675 \nQ 2931 909 2931 1356 \nQ 2931 1769 2642 2001 \nQ 2353 2234 1838 2234 \nL 1294 2234 \nL 1294 2753 \nL 1863 2753 \nQ 2328 2753 2575 2939 \nQ 2822 3125 2822 3475 \nQ 2822 3834 2567 4026 \nQ 2313 4219 1838 4219 \nQ 1578 4219 1281 4162 \nQ 984 4106 628 3988 \nL 628 4550 \nQ 988 4650 1302 4700 \nQ 1616 4750 1894 4750 \nQ 2613 4750 3031 4423 \nQ 3450 4097 3450 3541 \nQ 3450 3153 3228 2886 \nQ 3006 2619 2597 2516 \nz\n\" transform=\"scale(0.015625)\"/>\n       </defs>\n       <use xlink:href=\"#DejaVuSans-33\"/>\n       <use xlink:href=\"#DejaVuSans-30\" x=\"63.623047\"/>\n      </g>\n     </g>\n    </g>\n    <g id=\"text_8\">\n     <!-- epoch -->\n     <g transform=\"translate(112.525 177.875781) scale(0.1 -0.1)\">\n      <defs>\n       <path id=\"DejaVuSans-65\" d=\"M 3597 1894 \nL 3597 1613 \nL 953 1613 \nQ 991 1019 1311 708 \nQ 1631 397 2203 397 \nQ 2534 397 2845 478 \nQ 3156 559 3463 722 \nL 3463 178 \nQ 3153 47 2828 -22 \nQ 2503 -91 2169 -91 \nQ 1331 -91 842 396 \nQ 353 884 353 1716 \nQ 353 2575 817 3079 \nQ 1281 3584 2069 3584 \nQ 2775 3584 3186 3129 \nQ 3597 2675 3597 1894 \nz\nM 3022 2063 \nQ 3016 2534 2758 2815 \nQ 2500 3097 2075 3097 \nQ 1594 3097 1305 2825 \nQ 1016 2553 972 2059 \nL 3022 2063 \nz\n\" transform=\"scale(0.015625)\"/>\n       <path id=\"DejaVuSans-70\" d=\"M 1159 525 \nL 1159 -1331 \nL 581 -1331 \nL 581 3500 \nL 1159 3500 \nL 1159 2969 \nQ 1341 3281 1617 3432 \nQ 1894 3584 2278 3584 \nQ 2916 3584 3314 3078 \nQ 3713 2572 3713 1747 \nQ 3713 922 3314 415 \nQ 2916 -91 2278 -91 \nQ 1894 -91 1617 61 \nQ 1341 213 1159 525 \nz\nM 3116 1747 \nQ 3116 2381 2855 2742 \nQ 2594 3103 2138 3103 \nQ 1681 3103 1420 2742 \nQ 1159 2381 1159 1747 \nQ 1159 1113 1420 752 \nQ 1681 391 2138 391 \nQ 2594 391 2855 752 \nQ 3116 1113 3116 1747 \nz\n\" transform=\"scale(0.015625)\"/>\n       <path id=\"DejaVuSans-6f\" d=\"M 1959 3097 \nQ 1497 3097 1228 2736 \nQ 959 2375 959 1747 \nQ 959 1119 1226 758 \nQ 1494 397 1959 397 \nQ 2419 397 2687 759 \nQ 2956 1122 2956 1747 \nQ 2956 2369 2687 2733 \nQ 2419 3097 1959 3097 \nz\nM 1959 3584 \nQ 2709 3584 3137 3096 \nQ 3566 2609 3566 1747 \nQ 3566 888 3137 398 \nQ 2709 -91 1959 -91 \nQ 1206 -91 779 398 \nQ 353 888 353 1747 \nQ 353 2609 779 3096 \nQ 1206 3584 1959 3584 \nz\n\" transform=\"scale(0.015625)\"/>\n       <path id=\"DejaVuSans-63\" d=\"M 3122 3366 \nL 3122 2828 \nQ 2878 2963 2633 3030 \nQ 2388 3097 2138 3097 \nQ 1578 3097 1268 2742 \nQ 959 2388 959 1747 \nQ 959 1106 1268 751 \nQ 1578 397 2138 397 \nQ 2388 397 2633 464 \nQ 2878 531 3122 666 \nL 3122 134 \nQ 2881 22 2623 -34 \nQ 2366 -91 2075 -91 \nQ 1284 -91 818 406 \nQ 353 903 353 1747 \nQ 353 2603 823 3093 \nQ 1294 3584 2113 3584 \nQ 2378 3584 2631 3529 \nQ 2884 3475 3122 3366 \nz\n\" transform=\"scale(0.015625)\"/>\n       <path id=\"DejaVuSans-68\" d=\"M 3513 2113 \nL 3513 0 \nL 2938 0 \nL 2938 2094 \nQ 2938 2591 2744 2837 \nQ 2550 3084 2163 3084 \nQ 1697 3084 1428 2787 \nQ 1159 2491 1159 1978 \nL 1159 0 \nL 581 0 \nL 581 4863 \nL 1159 4863 \nL 1159 2956 \nQ 1366 3272 1645 3428 \nQ 1925 3584 2291 3584 \nQ 2894 3584 3203 3211 \nQ 3513 2838 3513 2113 \nz\n\" transform=\"scale(0.015625)\"/>\n      </defs>\n      <use xlink:href=\"#DejaVuSans-65\"/>\n      <use xlink:href=\"#DejaVuSans-70\" x=\"61.523438\"/>\n      <use xlink:href=\"#DejaVuSans-6f\" x=\"125\"/>\n      <use xlink:href=\"#DejaVuSans-63\" x=\"186.181641\"/>\n      <use xlink:href=\"#DejaVuSans-68\" x=\"241.162109\"/>\n     </g>\n    </g>\n   </g>\n   <g id=\"matplotlib.axis_2\">\n    <g id=\"ytick_1\">\n     <g id=\"line2d_15\">\n      <path d=\"M 30.103125 149.599219 \nL 225.403125 149.599219 \n\" clip-path=\"url(#p5e4fcc5e7d)\" style=\"fill: none; stroke: #b0b0b0; stroke-width: 0.8; stroke-linecap: square\"/>\n     </g>\n     <g id=\"line2d_16\">\n      <defs>\n       <path id=\"mc3a01bb0e1\" d=\"M 0 0 \nL -3.5 0 \n\" style=\"stroke: #000000; stroke-width: 0.8\"/>\n      </defs>\n      <g>\n       <use xlink:href=\"#mc3a01bb0e1\" x=\"30.103125\" y=\"149.599219\" style=\"stroke: #000000; stroke-width: 0.8\"/>\n      </g>\n     </g>\n     <g id=\"text_9\">\n      <!-- 0.0 -->\n      <g transform=\"translate(7.2 153.398438) scale(0.1 -0.1)\">\n       <defs>\n        <path id=\"DejaVuSans-2e\" d=\"M 684 794 \nL 1344 794 \nL 1344 0 \nL 684 0 \nL 684 794 \nz\n\" transform=\"scale(0.015625)\"/>\n       </defs>\n       <use xlink:href=\"#DejaVuSans-30\"/>\n       <use xlink:href=\"#DejaVuSans-2e\" x=\"63.623047\"/>\n       <use xlink:href=\"#DejaVuSans-30\" x=\"95.410156\"/>\n      </g>\n     </g>\n    </g>\n    <g id=\"ytick_2\">\n     <g id=\"line2d_17\">\n      <path d=\"M 30.103125 114.949219 \nL 225.403125 114.949219 \n\" clip-path=\"url(#p5e4fcc5e7d)\" style=\"fill: none; stroke: #b0b0b0; stroke-width: 0.8; stroke-linecap: square\"/>\n     </g>\n     <g id=\"line2d_18\">\n      <g>\n       <use xlink:href=\"#mc3a01bb0e1\" x=\"30.103125\" y=\"114.949219\" style=\"stroke: #000000; stroke-width: 0.8\"/>\n      </g>\n     </g>\n     <g id=\"text_10\">\n      <!-- 0.5 -->\n      <g transform=\"translate(7.2 118.748437) scale(0.1 -0.1)\">\n       <use xlink:href=\"#DejaVuSans-30\"/>\n       <use xlink:href=\"#DejaVuSans-2e\" x=\"63.623047\"/>\n       <use xlink:href=\"#DejaVuSans-35\" x=\"95.410156\"/>\n      </g>\n     </g>\n    </g>\n    <g id=\"ytick_3\">\n     <g id=\"line2d_19\">\n      <path d=\"M 30.103125 80.299219 \nL 225.403125 80.299219 \n\" clip-path=\"url(#p5e4fcc5e7d)\" style=\"fill: none; stroke: #b0b0b0; stroke-width: 0.8; stroke-linecap: square\"/>\n     </g>\n     <g id=\"line2d_20\">\n      <g>\n       <use xlink:href=\"#mc3a01bb0e1\" x=\"30.103125\" y=\"80.299219\" style=\"stroke: #000000; stroke-width: 0.8\"/>\n      </g>\n     </g>\n     <g id=\"text_11\">\n      <!-- 1.0 -->\n      <g transform=\"translate(7.2 84.098438) scale(0.1 -0.1)\">\n       <use xlink:href=\"#DejaVuSans-31\"/>\n       <use xlink:href=\"#DejaVuSans-2e\" x=\"63.623047\"/>\n       <use xlink:href=\"#DejaVuSans-30\" x=\"95.410156\"/>\n      </g>\n     </g>\n    </g>\n    <g id=\"ytick_4\">\n     <g id=\"line2d_21\">\n      <path d=\"M 30.103125 45.649219 \nL 225.403125 45.649219 \n\" clip-path=\"url(#p5e4fcc5e7d)\" style=\"fill: none; stroke: #b0b0b0; stroke-width: 0.8; stroke-linecap: square\"/>\n     </g>\n     <g id=\"line2d_22\">\n      <g>\n       <use xlink:href=\"#mc3a01bb0e1\" x=\"30.103125\" y=\"45.649219\" style=\"stroke: #000000; stroke-width: 0.8\"/>\n      </g>\n     </g>\n     <g id=\"text_12\">\n      <!-- 1.5 -->\n      <g transform=\"translate(7.2 49.448438) scale(0.1 -0.1)\">\n       <use xlink:href=\"#DejaVuSans-31\"/>\n       <use xlink:href=\"#DejaVuSans-2e\" x=\"63.623047\"/>\n       <use xlink:href=\"#DejaVuSans-35\" x=\"95.410156\"/>\n      </g>\n     </g>\n    </g>\n    <g id=\"ytick_5\">\n     <g id=\"line2d_23\">\n      <path d=\"M 30.103125 10.999219 \nL 225.403125 10.999219 \n\" clip-path=\"url(#p5e4fcc5e7d)\" style=\"fill: none; stroke: #b0b0b0; stroke-width: 0.8; stroke-linecap: square\"/>\n     </g>\n     <g id=\"line2d_24\">\n      <g>\n       <use xlink:href=\"#mc3a01bb0e1\" x=\"30.103125\" y=\"10.999219\" style=\"stroke: #000000; stroke-width: 0.8\"/>\n      </g>\n     </g>\n     <g id=\"text_13\">\n      <!-- 2.0 -->\n      <g transform=\"translate(7.2 14.798438) scale(0.1 -0.1)\">\n       <use xlink:href=\"#DejaVuSans-32\"/>\n       <use xlink:href=\"#DejaVuSans-2e\" x=\"63.623047\"/>\n       <use xlink:href=\"#DejaVuSans-30\" x=\"95.410156\"/>\n      </g>\n     </g>\n    </g>\n   </g>\n   <g id=\"line2d_25\">\n    <path d=\"M 30.918956 -0.774741 \nL 31.751437 8.353944 \nL 33.416399 20.292669 \nL 34.248879 25.123567 \nL 35.08136 29.210963 \nL 35.913841 32.636811 \nL 37.428956 62.364043 \nL 38.261437 63.359292 \nL 39.093918 64.791526 \nL 39.926399 66.670321 \nL 40.758879 68.197148 \nL 41.59136 70.04389 \nL 42.423841 71.608711 \nL 43.938956 86.778389 \nL 44.771437 86.121956 \nL 45.603918 86.727612 \nL 46.436399 87.826199 \nL 47.268879 88.66738 \nL 48.933841 89.96094 \nL 50.448956 101.33617 \nL 51.281437 99.777664 \nL 52.113918 98.770872 \nL 53.778879 99.054533 \nL 55.443841 100.081819 \nL 56.958956 104.4198 \nL 57.791437 105.720168 \nL 58.623918 106.276446 \nL 59.456399 106.327044 \nL 61.12136 106.955727 \nL 61.953841 106.961098 \nL 63.468956 110.647886 \nL 64.301437 110.575404 \nL 65.966399 111.331994 \nL 66.798879 111.570724 \nL 68.463841 110.761685 \nL 69.978956 112.158394 \nL 70.811437 112.673026 \nL 71.643918 113.762402 \nL 72.476399 113.824318 \nL 73.308879 114.393159 \nL 74.973841 114.343626 \nL 76.488956 118.123186 \nL 77.321437 117.561855 \nL 78.153918 117.836871 \nL 78.986399 117.627355 \nL 81.483841 117.793115 \nL 82.998956 119.971337 \nL 83.831437 119.22131 \nL 85.496399 120.13994 \nL 86.328879 120.051859 \nL 87.16136 120.199785 \nL 87.993841 120.219447 \nL 89.508956 122.687955 \nL 90.341437 122.809636 \nL 92.006399 122.441124 \nL 92.838879 122.376589 \nL 93.67136 122.128012 \nL 94.503841 122.034271 \nL 96.018956 125.168526 \nL 96.851437 124.11303 \nL 97.683918 124.49906 \nL 98.516399 124.560652 \nL 100.18136 124.354643 \nL 102.528956 123.227124 \nL 103.361437 123.745729 \nL 104.193918 124.434532 \nL 105.026399 124.556975 \nL 105.858879 124.84253 \nL 106.69136 124.976442 \nL 107.523841 124.872754 \nL 109.038956 127.776757 \nL 109.871437 127.112715 \nL 110.703918 127.473817 \nL 111.536399 127.11364 \nL 114.033841 127.058862 \nL 115.548956 128.974721 \nL 117.213918 128.870811 \nL 118.046399 128.992998 \nL 118.878879 128.714309 \nL 120.543841 128.564972 \nL 122.891437 130.583122 \nL 125.388879 129.700717 \nL 126.22136 129.620638 \nL 127.053841 129.750295 \nL 128.568956 131.983382 \nL 129.401437 131.353034 \nL 130.233918 131.498301 \nL 131.066399 131.291541 \nL 133.563841 131.316874 \nL 135.078956 132.555371 \nL 135.911437 132.933866 \nL 136.743918 132.048323 \nL 137.576399 131.539901 \nL 139.24136 131.538965 \nL 140.073841 131.6729 \nL 142.421437 133.370941 \nL 144.086399 132.917327 \nL 146.583841 132.861784 \nL 148.098956 134.451024 \nL 149.763918 133.997802 \nL 150.596399 134.23267 \nL 151.428879 134.137127 \nL 152.26136 133.822917 \nL 153.093841 133.764132 \nL 154.608956 134.594132 \nL 155.441437 135.194802 \nL 156.273918 135.082259 \nL 157.106399 134.683628 \nL 157.938879 134.884533 \nL 159.603841 134.917224 \nL 161.118956 136.53868 \nL 161.951437 136.350781 \nL 162.783918 136.498257 \nL 165.28136 136.173164 \nL 166.113841 135.984934 \nL 169.293918 136.682656 \nL 170.958879 136.420472 \nL 172.623841 136.353727 \nL 174.138956 139.078919 \nL 174.971437 138.090764 \nL 175.803918 137.705371 \nL 176.636399 137.547672 \nL 177.468879 137.616545 \nL 178.30136 137.368548 \nL 179.133841 137.271282 \nL 180.648956 138.512344 \nL 181.481437 138.194418 \nL 182.313918 138.266171 \nL 184.81136 137.790828 \nL 185.643841 137.656416 \nL 187.158956 139.755024 \nL 187.991437 139.066023 \nL 188.823918 138.804225 \nL 190.488879 138.789027 \nL 191.32136 138.858959 \nL 192.153841 138.76461 \nL 193.668956 140.650042 \nL 194.501437 139.991861 \nL 195.333918 139.665983 \nL 196.998879 139.283519 \nL 198.663841 139.263998 \nL 200.178956 140.915077 \nL 201.011437 140.150276 \nL 201.843918 139.738312 \nL 202.676399 139.533928 \nL 203.508879 139.646364 \nL 205.173841 139.392604 \nL 206.688956 140.946518 \nL 207.521437 140.254841 \nL 210.018879 140.417748 \nL 210.85136 140.21306 \nL 211.683841 140.193053 \nL 213.198956 140.813594 \nL 214.031437 140.521741 \nL 215.696399 140.323889 \nL 216.528879 140.21861 \nL 218.193841 140.309901 \nL 219.708956 141.244461 \nL 222.206399 140.906714 \nL 223.038879 141.052853 \nL 224.703841 140.849994 \nL 224.703841 140.849994 \n\" clip-path=\"url(#p5e4fcc5e7d)\" style=\"fill: none; stroke: #1f77b4; stroke-width: 1.5; stroke-linecap: square\"/>\n   </g>\n   <g id=\"line2d_26\">\n    <path d=\"M 30.918956 136.767891 \nL 33.416399 129.661934 \nL 34.248879 127.687425 \nL 35.08136 126.024586 \nL 35.913841 124.618734 \nL 37.428956 111.635813 \nL 40.758879 109.301269 \nL 42.423841 108.006844 \nL 43.938956 102.442734 \nL 44.771437 102.708023 \nL 45.603918 102.478828 \nL 46.436399 102.028559 \nL 48.933841 101.124797 \nL 50.448956 96.682172 \nL 51.281437 97.293961 \nL 52.113918 97.638656 \nL 53.778879 97.580906 \nL 55.443841 97.16325 \nL 56.958956 95.252859 \nL 57.791437 95.193305 \nL 58.623918 95.007422 \nL 59.456399 95.103973 \nL 61.12136 94.850414 \nL 61.953841 94.833656 \nL 63.468956 93.098063 \nL 64.301437 93.309211 \nL 65.966399 93.176566 \nL 66.798879 93.074241 \nL 68.463841 93.381141 \nL 71.643918 92.527781 \nL 72.476399 92.505223 \nL 73.308879 92.305444 \nL 74.973841 92.259656 \nL 76.488956 90.791672 \nL 77.321437 91.00282 \nL 81.483841 91.094859 \nL 82.998956 90.012047 \nL 83.831437 90.320648 \nL 87.993841 90.180656 \nL 89.508956 89.210766 \nL 93.67136 89.665547 \nL 94.503841 89.670187 \nL 96.018956 88.420313 \nL 96.851437 88.766813 \nL 101.013841 88.94625 \nL 102.528956 89.189109 \nL 104.193918 88.672969 \nL 107.523841 88.570359 \nL 109.038956 87.478266 \nL 109.871437 87.797695 \nL 110.703918 87.785063 \nL 112.368879 87.915722 \nL 114.033841 87.894375 \nL 115.548956 87.229219 \nL 116.381437 87.202148 \nL 120.543841 87.527766 \nL 122.891437 86.731125 \nL 127.053841 87.055969 \nL 128.568956 86.362969 \nL 131.898879 86.447428 \nL 133.563841 86.423297 \nL 135.911437 85.989398 \nL 137.576399 86.482078 \nL 140.073841 86.465063 \nL 142.421437 85.967742 \nL 146.583841 86.024203 \nL 148.098956 85.550859 \nL 149.763918 85.731328 \nL 151.428879 85.602834 \nL 152.26136 85.727719 \nL 153.093841 85.734938 \nL 155.441437 85.047352 \nL 157.106399 85.290984 \nL 158.77136 85.23143 \nL 159.603841 85.261594 \nL 161.118956 84.825375 \nL 161.951437 84.863273 \nL 162.783918 84.731531 \nL 164.448879 84.790725 \nL 172.623841 84.898078 \nL 174.138956 83.8725 \nL 175.803918 84.457219 \nL 176.636399 84.533016 \nL 177.468879 84.478875 \nL 179.133841 84.587156 \nL 180.648956 84.067406 \nL 183.978879 84.238491 \nL 185.643841 84.29325 \nL 187.158956 83.764219 \nL 188.823918 84.060188 \nL 192.153841 83.959125 \nL 193.668956 83.482688 \nL 194.501437 83.666766 \nL 198.663841 83.829188 \nL 200.178956 83.331094 \nL 201.011437 83.558484 \nL 204.34136 83.731734 \nL 205.173841 83.768859 \nL 206.688956 83.341922 \nL 207.521437 83.482688 \nL 210.018879 83.426381 \nL 211.683841 83.481141 \nL 214.031437 83.482688 \nL 215.696399 83.482688 \nL 217.36136 83.489906 \nL 218.193841 83.482688 \nL 219.708956 83.114531 \nL 222.206399 83.15243 \nL 223.87136 83.170477 \nL 224.703841 83.216625 \nL 224.703841 83.216625 \n\" clip-path=\"url(#p5e4fcc5e7d)\" style=\"fill: none; stroke-dasharray: 5.55,2.4; stroke-dashoffset: 0; stroke: #bf00bf; stroke-width: 1.5\"/>\n   </g>\n   <g id=\"line2d_27\">\n    <path d=\"M 36.613125 113.951299 \nL 43.123125 103.577089 \nL 49.633125 99.467599 \nL 56.143125 98.400379 \nL 62.653125 95.157139 \nL 69.163125 94.595809 \nL 75.673125 93.923599 \nL 82.183125 92.087149 \nL 88.693125 91.304059 \nL 95.203125 90.881329 \nL 101.713125 91.387219 \nL 108.223125 90.396229 \nL 114.733125 89.848759 \nL 121.243125 90.285349 \nL 127.753125 89.058739 \nL 134.263125 89.502259 \nL 140.773125 89.481469 \nL 147.283125 89.273569 \nL 153.793125 88.629079 \nL 160.303125 89.072599 \nL 166.813125 88.538989 \nL 173.323125 90.160609 \nL 179.833125 88.566709 \nL 186.343125 88.587499 \nL 192.853125 88.573639 \nL 199.363125 88.372669 \nL 205.873125 87.943009 \nL 212.383125 88.344949 \nL 218.893125 88.726099 \nL 225.403125 87.970729 \n\" clip-path=\"url(#p5e4fcc5e7d)\" style=\"fill: none; stroke-dasharray: 9.6,2.4,1.5,2.4; stroke-dashoffset: 0; stroke: #008000; stroke-width: 1.5\"/>\n   </g>\n   <g id=\"patch_3\">\n    <path d=\"M 30.103125 149.599219 \nL 30.103125 10.999219 \n\" style=\"fill: none; stroke: #000000; stroke-width: 0.8; stroke-linejoin: miter; stroke-linecap: square\"/>\n   </g>\n   <g id=\"patch_4\">\n    <path d=\"M 225.403125 149.599219 \nL 225.403125 10.999219 \n\" style=\"fill: none; stroke: #000000; stroke-width: 0.8; stroke-linejoin: miter; stroke-linecap: square\"/>\n   </g>\n   <g id=\"patch_5\">\n    <path d=\"M 30.103125 149.599219 \nL 225.403125 149.599219 \n\" style=\"fill: none; stroke: #000000; stroke-width: 0.8; stroke-linejoin: miter; stroke-linecap: square\"/>\n   </g>\n   <g id=\"patch_6\">\n    <path d=\"M 30.103125 10.999219 \nL 225.403125 10.999219 \n\" style=\"fill: none; stroke: #000000; stroke-width: 0.8; stroke-linejoin: miter; stroke-linecap: square\"/>\n   </g>\n   <g id=\"legend_1\">\n    <g id=\"patch_7\">\n     <path d=\"M 140.634375 63.033594 \nL 218.403125 63.033594 \nQ 220.403125 63.033594 220.403125 61.033594 \nL 220.403125 17.999219 \nQ 220.403125 15.999219 218.403125 15.999219 \nL 140.634375 15.999219 \nQ 138.634375 15.999219 138.634375 17.999219 \nL 138.634375 61.033594 \nQ 138.634375 63.033594 140.634375 63.033594 \nz\n\" style=\"fill: #ffffff; opacity: 0.8; stroke: #cccccc; stroke-linejoin: miter\"/>\n    </g>\n    <g id=\"line2d_28\">\n     <path d=\"M 142.634375 24.097656 \nL 152.634375 24.097656 \nL 162.634375 24.097656 \n\" style=\"fill: none; stroke: #1f77b4; stroke-width: 1.5; stroke-linecap: square\"/>\n    </g>\n    <g id=\"text_14\">\n     <!-- train loss -->\n     <g transform=\"translate(170.634375 27.597656) scale(0.1 -0.1)\">\n      <defs>\n       <path id=\"DejaVuSans-74\" d=\"M 1172 4494 \nL 1172 3500 \nL 2356 3500 \nL 2356 3053 \nL 1172 3053 \nL 1172 1153 \nQ 1172 725 1289 603 \nQ 1406 481 1766 481 \nL 2356 481 \nL 2356 0 \nL 1766 0 \nQ 1100 0 847 248 \nQ 594 497 594 1153 \nL 594 3053 \nL 172 3053 \nL 172 3500 \nL 594 3500 \nL 594 4494 \nL 1172 4494 \nz\n\" transform=\"scale(0.015625)\"/>\n       <path id=\"DejaVuSans-72\" d=\"M 2631 2963 \nQ 2534 3019 2420 3045 \nQ 2306 3072 2169 3072 \nQ 1681 3072 1420 2755 \nQ 1159 2438 1159 1844 \nL 1159 0 \nL 581 0 \nL 581 3500 \nL 1159 3500 \nL 1159 2956 \nQ 1341 3275 1631 3429 \nQ 1922 3584 2338 3584 \nQ 2397 3584 2469 3576 \nQ 2541 3569 2628 3553 \nL 2631 2963 \nz\n\" transform=\"scale(0.015625)\"/>\n       <path id=\"DejaVuSans-61\" d=\"M 2194 1759 \nQ 1497 1759 1228 1600 \nQ 959 1441 959 1056 \nQ 959 750 1161 570 \nQ 1363 391 1709 391 \nQ 2188 391 2477 730 \nQ 2766 1069 2766 1631 \nL 2766 1759 \nL 2194 1759 \nz\nM 3341 1997 \nL 3341 0 \nL 2766 0 \nL 2766 531 \nQ 2569 213 2275 61 \nQ 1981 -91 1556 -91 \nQ 1019 -91 701 211 \nQ 384 513 384 1019 \nQ 384 1609 779 1909 \nQ 1175 2209 1959 2209 \nL 2766 2209 \nL 2766 2266 \nQ 2766 2663 2505 2880 \nQ 2244 3097 1772 3097 \nQ 1472 3097 1187 3025 \nQ 903 2953 641 2809 \nL 641 3341 \nQ 956 3463 1253 3523 \nQ 1550 3584 1831 3584 \nQ 2591 3584 2966 3190 \nQ 3341 2797 3341 1997 \nz\n\" transform=\"scale(0.015625)\"/>\n       <path id=\"DejaVuSans-69\" d=\"M 603 3500 \nL 1178 3500 \nL 1178 0 \nL 603 0 \nL 603 3500 \nz\nM 603 4863 \nL 1178 4863 \nL 1178 4134 \nL 603 4134 \nL 603 4863 \nz\n\" transform=\"scale(0.015625)\"/>\n       <path id=\"DejaVuSans-6e\" d=\"M 3513 2113 \nL 3513 0 \nL 2938 0 \nL 2938 2094 \nQ 2938 2591 2744 2837 \nQ 2550 3084 2163 3084 \nQ 1697 3084 1428 2787 \nQ 1159 2491 1159 1978 \nL 1159 0 \nL 581 0 \nL 581 3500 \nL 1159 3500 \nL 1159 2956 \nQ 1366 3272 1645 3428 \nQ 1925 3584 2291 3584 \nQ 2894 3584 3203 3211 \nQ 3513 2838 3513 2113 \nz\n\" transform=\"scale(0.015625)\"/>\n       <path id=\"DejaVuSans-20\" transform=\"scale(0.015625)\"/>\n       <path id=\"DejaVuSans-6c\" d=\"M 603 4863 \nL 1178 4863 \nL 1178 0 \nL 603 0 \nL 603 4863 \nz\n\" transform=\"scale(0.015625)\"/>\n       <path id=\"DejaVuSans-73\" d=\"M 2834 3397 \nL 2834 2853 \nQ 2591 2978 2328 3040 \nQ 2066 3103 1784 3103 \nQ 1356 3103 1142 2972 \nQ 928 2841 928 2578 \nQ 928 2378 1081 2264 \nQ 1234 2150 1697 2047 \nL 1894 2003 \nQ 2506 1872 2764 1633 \nQ 3022 1394 3022 966 \nQ 3022 478 2636 193 \nQ 2250 -91 1575 -91 \nQ 1294 -91 989 -36 \nQ 684 19 347 128 \nL 347 722 \nQ 666 556 975 473 \nQ 1284 391 1588 391 \nQ 1994 391 2212 530 \nQ 2431 669 2431 922 \nQ 2431 1156 2273 1281 \nQ 2116 1406 1581 1522 \nL 1381 1569 \nQ 847 1681 609 1914 \nQ 372 2147 372 2553 \nQ 372 3047 722 3315 \nQ 1072 3584 1716 3584 \nQ 2034 3584 2315 3537 \nQ 2597 3491 2834 3397 \nz\n\" transform=\"scale(0.015625)\"/>\n      </defs>\n      <use xlink:href=\"#DejaVuSans-74\"/>\n      <use xlink:href=\"#DejaVuSans-72\" x=\"39.208984\"/>\n      <use xlink:href=\"#DejaVuSans-61\" x=\"80.322266\"/>\n      <use xlink:href=\"#DejaVuSans-69\" x=\"141.601562\"/>\n      <use xlink:href=\"#DejaVuSans-6e\" x=\"169.384766\"/>\n      <use xlink:href=\"#DejaVuSans-20\" x=\"232.763672\"/>\n      <use xlink:href=\"#DejaVuSans-6c\" x=\"264.550781\"/>\n      <use xlink:href=\"#DejaVuSans-6f\" x=\"292.333984\"/>\n      <use xlink:href=\"#DejaVuSans-73\" x=\"353.515625\"/>\n      <use xlink:href=\"#DejaVuSans-73\" x=\"405.615234\"/>\n     </g>\n    </g>\n    <g id=\"line2d_29\">\n     <path d=\"M 142.634375 38.775781 \nL 152.634375 38.775781 \nL 162.634375 38.775781 \n\" style=\"fill: none; stroke-dasharray: 5.55,2.4; stroke-dashoffset: 0; stroke: #bf00bf; stroke-width: 1.5\"/>\n    </g>\n    <g id=\"text_15\">\n     <!-- train acc -->\n     <g transform=\"translate(170.634375 42.275781) scale(0.1 -0.1)\">\n      <use xlink:href=\"#DejaVuSans-74\"/>\n      <use xlink:href=\"#DejaVuSans-72\" x=\"39.208984\"/>\n      <use xlink:href=\"#DejaVuSans-61\" x=\"80.322266\"/>\n      <use xlink:href=\"#DejaVuSans-69\" x=\"141.601562\"/>\n      <use xlink:href=\"#DejaVuSans-6e\" x=\"169.384766\"/>\n      <use xlink:href=\"#DejaVuSans-20\" x=\"232.763672\"/>\n      <use xlink:href=\"#DejaVuSans-61\" x=\"264.550781\"/>\n      <use xlink:href=\"#DejaVuSans-63\" x=\"325.830078\"/>\n      <use xlink:href=\"#DejaVuSans-63\" x=\"380.810547\"/>\n     </g>\n    </g>\n    <g id=\"line2d_30\">\n     <path d=\"M 142.634375 53.453906 \nL 152.634375 53.453906 \nL 162.634375 53.453906 \n\" style=\"fill: none; stroke-dasharray: 9.6,2.4,1.5,2.4; stroke-dashoffset: 0; stroke: #008000; stroke-width: 1.5\"/>\n    </g>\n    <g id=\"text_16\">\n     <!-- test acc -->\n     <g transform=\"translate(170.634375 56.953906) scale(0.1 -0.1)\">\n      <use xlink:href=\"#DejaVuSans-74\"/>\n      <use xlink:href=\"#DejaVuSans-65\" x=\"39.208984\"/>\n      <use xlink:href=\"#DejaVuSans-73\" x=\"100.732422\"/>\n      <use xlink:href=\"#DejaVuSans-74\" x=\"152.832031\"/>\n      <use xlink:href=\"#DejaVuSans-20\" x=\"192.041016\"/>\n      <use xlink:href=\"#DejaVuSans-61\" x=\"223.828125\"/>\n      <use xlink:href=\"#DejaVuSans-63\" x=\"285.107422\"/>\n      <use xlink:href=\"#DejaVuSans-63\" x=\"340.087891\"/>\n     </g>\n    </g>\n   </g>\n  </g>\n </g>\n <defs>\n  <clipPath id=\"p5e4fcc5e7d\">\n   <rect x=\"30.103125\" y=\"10.999219\" width=\"195.3\" height=\"138.6\"/>\n  </clipPath>\n </defs>\n</svg>\n"
          },
          "metadata": {}
        }
      ]
    },
    {
      "cell_type": "markdown",
      "source": [
        "#classification report\n",
        " The classification report was printed to find how the model performed in each class."
      ],
      "metadata": {
        "id": "5A04KO3iOKKO"
      }
    },
    {
      "cell_type": "code",
      "source": [
        "#Classification Report which show how the model performed based on each class using the f1-score.\n",
        "all_predictions = []\n",
        "all_targets = []\n",
        "\n",
        "# Loop over the test dataset and make predictions for each batch\n",
        "with torch.no_grad():\n",
        "    for inputs, targets in test_loader:\n",
        "        # Move the inputs and targets to the device (e.g. GPU)\n",
        "        inputs = inputs.to(device)\n",
        "        targets = targets.to(device)\n",
        "\n",
        "        outputs = model(inputs)\n",
        "\n",
        "        # Compute the predictions and append them to the list of all predictions\n",
        "        _, predictions = torch.max(outputs, dim=1)\n",
        "        all_predictions.append(predictions.cpu().numpy())\n",
        "        all_targets.append(targets.cpu().numpy())\n",
        "\n",
        "# Concatenate the lists of predictions and targets to form arrays\n",
        "all_predictions = np.concatenate(all_predictions)\n",
        "all_targets = np.concatenate(all_targets)\n",
        "\n",
        "# Compute the classification report for the predictions\n",
        "report = classification_report(all_targets, all_predictions, target_names=classes)\n",
        "print(report)"
      ],
      "metadata": {
        "id": "RIcfJ6zrSbSM",
        "colab": {
          "base_uri": "https://localhost:8080/"
        },
        "outputId": "bc8bc1bd-0bc7-46ac-e71b-20a8cc6dbfce"
      },
      "execution_count": null,
      "outputs": [
        {
          "output_type": "stream",
          "name": "stdout",
          "text": [
            "              precision    recall  f1-score   support\n",
            "\n",
            "       plane       0.91      0.88      0.89      1000\n",
            "         car       0.93      0.96      0.94      1000\n",
            "        bird       0.87      0.80      0.83      1000\n",
            "         cat       0.77      0.82      0.80      1000\n",
            "        deer       0.88      0.88      0.88      1000\n",
            "         dog       0.85      0.84      0.85      1000\n",
            "        frog       0.92      0.92      0.92      1000\n",
            "       horse       0.91      0.92      0.91      1000\n",
            "        ship       0.92      0.94      0.93      1000\n",
            "       truck       0.94      0.92      0.93      1000\n",
            "\n",
            "    accuracy                           0.89     10000\n",
            "   macro avg       0.89      0.89      0.89     10000\n",
            "weighted avg       0.89      0.89      0.89     10000\n",
            "\n"
          ]
        }
      ]
    }
  ],
  "metadata": {
    "colab": {
      "provenance": []
    },
    "gpuClass": "standard",
    "kernelspec": {
      "display_name": "Python 3",
      "name": "python3"
    },
    "language_info": {
      "name": "python"
    },
    "accelerator": "GPU"
  },
  "nbformat": 4,
  "nbformat_minor": 0
}